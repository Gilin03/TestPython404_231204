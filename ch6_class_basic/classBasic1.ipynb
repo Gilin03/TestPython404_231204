{
 "cells": [
  {
   "cell_type": "code",
   "execution_count": 3,
   "metadata": {},
   "outputs": [
    {
     "name": "stdout",
     "output_type": "stream",
     "text": [
      "출력해보기 lsy : hi, 이름: 이상용, 나이: 20, 이메일: lsy@naver.com\n",
      "변경한 이메일 : lsy2@naver.com\n",
      "출력해보기 lsy : hi, 이름: 이상용, 나이: 20, 이메일: lsy2@naver.com\n",
      "출력해보기 상속받은 child1 : hi, 이름: 자식1, 나이: 20, 이메일: 자식1@naver.com\n"
     ]
    }
   ],
   "source": [
    "class Person():\n",
    "  # 매개변수 3개인 생성자, \n",
    "  # 해당 클래스 사용시, 반드시 호출되는 함수. \n",
    "  def __init__(self,name,age,email):\n",
    "    self.name = name\n",
    "    self.age = age\n",
    "    self.email = email\n",
    "  \n",
    "  def chage_email (self, newEmail):\n",
    "    self.email = newEmail\n",
    "    print(f\"변경한 이메일 : {newEmail}\")\n",
    "  \n",
    "  def __str__(self):\n",
    "    return f\"hi, 이름: {self.name}, 나이: {self.age}, 이메일: {self.email}\"\n",
    "\n",
    "# 클래스 사용하기. \n",
    "lsy = Person(\"이상용\", 20, \"lsy@naver.com\")\n",
    "print(f\"출력해보기 lsy : {lsy}\")\n",
    "\n",
    "#이메일 변경해보기. \n",
    "lsy.chage_email(\"lsy2@naver.com\")\n",
    "print(f\"출력해보기 lsy : {lsy}\")\n",
    "\n",
    "# 부모 클래스 : Person \n",
    "# 자식 클래스 : Child \n",
    "\n",
    "class Child(Person):\n",
    "  pass\n",
    "\n",
    "child1 = Child(\"자식1\",20,\"자식1@naver.com\")\n",
    "print(f\"출력해보기 상속받은 child1 : {child1}\")"
   ]
  }
 ],
 "metadata": {
  "kernelspec": {
   "display_name": "Python 3",
   "language": "python",
   "name": "python3"
  },
  "language_info": {
   "codemirror_mode": {
    "name": "ipython",
    "version": 3
   },
   "file_extension": ".py",
   "mimetype": "text/x-python",
   "name": "python",
   "nbconvert_exporter": "python",
   "pygments_lexer": "ipython3",
   "version": "3.12.0"
  }
 },
 "nbformat": 4,
 "nbformat_minor": 2
}
