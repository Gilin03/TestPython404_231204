{
 "cells": [
  {
   "cell_type": "code",
   "execution_count": 3,
   "metadata": {},
   "outputs": [
    {
     "name": "stdout",
     "output_type": "stream",
     "text": [
      "<class 'numpy.ndarray'>\n",
      "출력해보기 data : [0.5982927  0.51302621 0.35753961 0.43079305 0.63066164 0.42004249\n",
      " 0.94714386 0.00858903 0.84870903 0.28517466 0.77960802 0.90284006\n",
      " 0.02046991 0.50478657 0.2765458  0.73663934 0.87410322 0.18254384\n",
      " 0.47690815 0.48169635 0.79348739 0.81493526 0.98587684 0.83431924\n",
      " 0.45555889 0.22576914 0.82492995 0.72601531 0.64636568 0.06061473\n",
      " 0.01125742 0.04365595 0.63053357 0.6407461  0.53491573 0.26360402\n",
      " 0.98131665 0.27385787 0.33145142 0.43121306 0.66431311 0.78576686\n",
      " 0.29617165 0.65504661 0.49705685 0.50354584 0.74652894 0.37808048\n",
      " 0.11092766 0.77453077] \n"
     ]
    }
   ],
   "source": [
    "# pip install numpy\n",
    "# pip install pandas\n",
    "# pip install matplot\n",
    "import numpy as np\n",
    "import pandas as pd \n",
    "# import matplot \n",
    "\n",
    "#50개 랜덤한 수 생성 \n",
    "data = np.random.rand(50)\n",
    "print(type(data))\n",
    "print(f\"출력해보기 data : {data} \")"
   ]
  }
 ],
 "metadata": {
  "kernelspec": {
   "display_name": "Python 3",
   "language": "python",
   "name": "python3"
  },
  "language_info": {
   "codemirror_mode": {
    "name": "ipython",
    "version": 3
   },
   "file_extension": ".py",
   "mimetype": "text/x-python",
   "name": "python",
   "nbconvert_exporter": "python",
   "pygments_lexer": "ipython3",
   "version": "3.12.0"
  }
 },
 "nbformat": 4,
 "nbformat_minor": 2
}
