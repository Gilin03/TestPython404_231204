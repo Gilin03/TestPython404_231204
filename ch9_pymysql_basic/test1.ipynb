{
 "cells": [
  {
   "cell_type": "code",
   "execution_count": 4,
   "metadata": {},
   "outputs": [
    {
     "name": "stdout",
     "output_type": "stream",
     "text": [
      "ID    title    writer         \n",
      "--------------------------------------------------------\n",
      "    2               제목1              lsy1 \n",
      "\n",
      "    3               제목2              lsy2 \n",
      "\n"
     ]
    }
   ],
   "source": [
    "# pip install pymysql \n",
    "import pymysql\n",
    "\n",
    "## 변수 선언 부분 ##\n",
    "con, cur = None, None\n",
    "data1, data2, data3, data4 = \"\", \"\", \"\", \"\"\n",
    "row = None\n",
    "\n",
    "## 메인 코드 부분 ##\n",
    "con = pymysql.connect(host='127.0.0.1', user='root',\n",
    "                      password='123456', database='pydb', charset='utf8')\n",
    "cur = con.cursor()\n",
    "\n",
    "cur.execute(\"SELECT * FROM book\")\n",
    "\n",
    "print(\"ID    title    writer         \")\n",
    "print(\"--------------------------------------------------------\")\n",
    "\n",
    "while (True):\n",
    "    row = cur.fetchone()\n",
    "    if row == None:\n",
    "        break\n",
    "    data1 = row[0]\n",
    "    data2 = row[1]\n",
    "    data3 = row[2]\n",
    "    \n",
    "    print(\"%5s   %15s   %15s \\n\" % (data1, data2, data3))\n",
    "    # print(f\" ID: {data1}, title: {data2}, writer: {data3}\")\n",
    "\n",
    "con.close()"
   ]
  }
 ],
 "metadata": {
  "kernelspec": {
   "display_name": "Python 3",
   "language": "python",
   "name": "python3"
  },
  "language_info": {
   "codemirror_mode": {
    "name": "ipython",
    "version": 3
   },
   "file_extension": ".py",
   "mimetype": "text/x-python",
   "name": "python",
   "nbconvert_exporter": "python",
   "pygments_lexer": "ipython3",
   "version": "3.12.0"
  }
 },
 "nbformat": 4,
 "nbformat_minor": 2
}
