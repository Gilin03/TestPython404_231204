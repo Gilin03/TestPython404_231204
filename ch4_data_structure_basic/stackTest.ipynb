{
 "cells": [
  {
   "cell_type": "code",
   "execution_count": null,
   "metadata": {},
   "outputs": [],
   "source": [
    "# list 를 함수, push(), pop() 이용해서, 스택처럼 사용해보기. \n",
    "word = input(\"문자열 입력해주세요: \")\n",
    "# input 함수 이용해서, 문자열 받고 , 다시, 문자열 -> 리스로 변환: list() 함수. \n",
    "word_list = list(word)\n",
    "\n",
    "# 임시로 저장할 빈 리슽, 참고로 전역. \n",
    "result = []\n",
    "# len 함수는 크기를 반환하는 함수. \n",
    "# word_list , pop() 함수로 꺼내서, result 임시 리스트에 담기. 반복문. \n",
    "for _ in range(len(word_list)):\n",
    "  result.append(word_list.pop())\n",
    "\n",
    "print(f\"result 조회 해보기 : {result}\")\n",
    "print(f\"word 조회 해보기. [::-1] : {word[::-1]}\")\n"
   ]
  }
 ],
 "metadata": {
  "language_info": {
   "name": "python"
  }
 },
 "nbformat": 4,
 "nbformat_minor": 2
}
