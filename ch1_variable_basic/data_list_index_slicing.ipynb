{
 "cells": [
  {
   "cell_type": "code",
   "execution_count": 11,
   "metadata": {},
   "outputs": [
    {
     "name": "stdout",
     "output_type": "stream",
     "text": [
      "리스트 출력 해보기.: [1, 2, 3, 4.5, '이상용']\n",
      " alist 의 타입 : <class 'list'>\n",
      " a 의 타입 : <class 'int'>\n",
      "인덱싱 : 0번째 요소 : 1\n",
      "슬라이싱 : [0:3] : [1, 2, 3]\n",
      "슬라이싱 : 전체 출력 [:] : [1, 2, 3, 4.5, '이상용']\n",
      "슬라이싱 : 전체 출력 [::1] : [1, 2, 3, 4.5, '이상용']\n",
      "슬라이싱 : 증가값 +2 출력 [::2] : [1, 3, '이상용']\n",
      "슬라이싱 : 증가값 -1 출력 [::-1] : ['이상용', 4.5, 3, 2, 1]\n",
      "슬라이싱 : [2:-1] 출력 [2:-1] : [3, 4.5]\n",
      "슬라이싱 : [2:4] 출력 [2:4] : [3, 4.5]\n"
     ]
    }
   ],
   "source": [
    "# 리스트, 주의, 다른 형끼리 가능. \n",
    "# 파이썬에서, 기본적으로, 모든 타입이 : 객체 다\n",
    "alist = [1,2,3,4.5,\"이상용\"]\n",
    "print(f\"리스트 출력 해보기.: {alist}\")\n",
    "print(f\" alist 의 타입 : {type(alist)}\")\n",
    "a = 3\n",
    "print(f\" a 의 타입 : {type(a)}\")\n",
    "\n",
    "# 인덱싱, 슬라이싱 [a:b:c], a: 시작값, b: 마지막값, c: 증가값\n",
    "# b 마지막 값은 포함이 안됨. \n",
    "# 리버스 인덱싱, 요소의 맨 마지막이 -1 부터 시작. \n",
    "print(f\"인덱싱 : 0번째 요소 : {alist[0]}\")\n",
    "\n",
    "# 슬라이싱  alist = [1,2,3,4.5,\"이상용\"]\n",
    "print(f\"슬라이싱 : [0:3] : {alist[0:3]}\")\n",
    "print(f\"슬라이싱 : 전체 출력 [:] : {alist[:]}\")\n",
    "print(f\"슬라이싱 : 전체 출력 [::1] : {alist[::1]}\")\n",
    "print(f\"슬라이싱 : 증가값 +2 출력 [::2] : {alist[::2]}\")\n",
    "print(f\"슬라이싱 : 증가값 -1 출력 [::-1] : {alist[::-1]}\")\n",
    "print(f\"슬라이싱 : [2:-1] 출력 [2:-1] : {alist[2:-1]}\")\n",
    "print(f\"슬라이싱 : [2:4] 출력 [2:4] : {alist[2:4]}\")"
   ]
  },
  {
   "cell_type": "code",
   "execution_count": 14,
   "metadata": {},
   "outputs": [
    {
     "name": "stdout",
     "output_type": "stream",
     "text": [
      "sumList 출력 : [1, 2, 3, 4.5, '이상용', 1, 2, 3, 4.5, '이상용']\n",
      "mulList 출력 : [1, 2, 3, 4.5, '이상용', 1, 2, 3, 4.5, '이상용', 1, 2, 3, 4.5, '이상용']\n",
      "alist 의 요소의 값중 3이 있나요? : True\n"
     ]
    }
   ],
   "source": [
    "# 리스트 덧셈, 곱셈,  in 연산자\n",
    "alist = [1,2,3,4.5,\"이상용\"]\n",
    "sumList = alist + alist\n",
    "mulList = alist * 3\n",
    "print(f\"sumList 출력 : {sumList}\")\n",
    "print(f\"mulList 출력 : {mulList}\")\n",
    "# in 연산자 확인. \n",
    "print(f\"alist 의 요소의 값중 3이 있나요? : {3 in alist}\")"
   ]
  },
  {
   "cell_type": "code",
   "execution_count": 20,
   "metadata": {},
   "outputs": [
    {
     "name": "stdout",
     "output_type": "stream",
     "text": [
      "alist 출력 : [1, 2, 3, 4.5, '이상용', '이상용2']\n",
      "blist 출력 : [1, 2, 3, 4.5, '이상용', 'a', 'b', 'c']\n",
      "alist 출력 : ['이상용0', 1, 2, 3, 4.5, '이상용', '이상용2']\n",
      "alist 출력 : ['이상용0', 1, 2, 3, 4.5, '이상용']\n",
      "alist 출력 : ['이상용 0 대신 덮어쓰기', 1, 2, 3, 4.5, '이상용']\n",
      "alist 출력 : [1, 2, 3, 4.5, '이상용']\n"
     ]
    }
   ],
   "source": [
    "# append 값 새로 추가, \n",
    "alist = [1,2,3,4.5,\"이상용\"]\n",
    "alist.append(\"이상용2\")\n",
    "print(f\"alist 출력 : {alist}\")\n",
    "\n",
    "# extend 새로운 리스트 추가. \n",
    "blist = [1,2,3,4.5,\"이상용\"]\n",
    "clist = [\"a\",\"b\",\"c\"]\n",
    "blist.extend(clist)\n",
    "print(f\"blist 출력 : {blist}\")\n",
    "\n",
    "# insert , 특정 인덱스 추가\n",
    "alist.insert(0,\"이상용0\")\n",
    "print(f\"alist 출력 : {alist}\")\n",
    "\n",
    "# remove , 특정 요소 삭제. \n",
    "alist.remove(\"이상용2\")\n",
    "print(f\"alist 출력 : {alist}\")\n",
    "\n",
    "# 재할당, 요소에 직접 접근해서, 덮어쓰기 \n",
    "alist[0] = \"이상용 0 대신 덮어쓰기\"\n",
    "print(f\"alist 출력 : {alist}\")\n",
    "\n",
    "# del 함수 이용해서, 해당 요소 삭제\n",
    "del alist[0]\n",
    "print(f\"alist 출력 : {alist}\")\n"
   ]
  }
 ],
 "metadata": {
  "kernelspec": {
   "display_name": "Python 3",
   "language": "python",
   "name": "python3"
  },
  "language_info": {
   "codemirror_mode": {
    "name": "ipython",
    "version": 3
   },
   "file_extension": ".py",
   "mimetype": "text/x-python",
   "name": "python",
   "nbconvert_exporter": "python",
   "pygments_lexer": "ipython3",
   "version": "3.12.0"
  }
 },
 "nbformat": 4,
 "nbformat_minor": 2
}
